{
 "cells": [
  {
   "cell_type": "code",
   "execution_count": 1,
   "id": "5f943663-aee8-45bd-a4e1-809a9ef45e10",
   "metadata": {},
   "outputs": [
    {
     "name": "stdout",
     "output_type": "stream",
     "text": [
      "hello\n"
     ]
    }
   ],
   "source": [
    "print('hello')"
   ]
  },
  {
   "cell_type": "code",
   "execution_count": 2,
   "id": "db5e0578-8e06-4a5b-92bb-b7636b49c205",
   "metadata": {},
   "outputs": [
    {
     "name": "stderr",
     "output_type": "stream",
     "text": [
      "Matplotlib is building the font cache; this may take a moment.\n"
     ]
    }
   ],
   "source": [
    "import numpy as np\n",
    "import matplotlib.pyplot as plt\n",
    "%matplotlib inline\n",
    "import pandas as pd\n"
   ]
  },
  {
   "cell_type": "code",
   "execution_count": 3,
   "id": "139704a3-68d0-4773-a0e9-c699f0a6acee",
   "metadata": {},
   "outputs": [],
   "source": [
    "from datetime import date"
   ]
  },
  {
   "cell_type": "code",
   "execution_count": 4,
   "id": "143b2732-16db-4268-8fc0-2051d407d209",
   "metadata": {},
   "outputs": [],
   "source": [
    "df = pd.read_csv(r\"C:\\Users\\dell\\Downloads\\AcademicPerformance.csv\")"
   ]
  },
  {
   "cell_type": "code",
   "execution_count": 5,
   "id": "d8b14182-b78f-40c3-bbf1-126928868f74",
   "metadata": {},
   "outputs": [
    {
     "name": "stdout",
     "output_type": "stream",
     "text": [
      "      gender race/ethnicity parental level of education         lunch  \\\n",
      "0     female        group B           bachelor's degree      standard   \n",
      "1     female        group C                some college      standard   \n",
      "2     female        group B             master's degree      standard   \n",
      "3       male        group A          associate's degree  free/reduced   \n",
      "4       male        group C                some college      standard   \n",
      "...      ...            ...                         ...           ...   \n",
      "2235     NaN            NaN                         NaN           NaN   \n",
      "2236     NaN            NaN                         NaN           NaN   \n",
      "2237     NaN            NaN                         NaN           NaN   \n",
      "2238     NaN            NaN                         NaN           NaN   \n",
      "2239     NaN            NaN                         NaN           NaN   \n",
      "\n",
      "     test preparation course  Year_Birth  math score reading score  \\\n",
      "0                       none      1970.0        72.0            72   \n",
      "1                  completed      1961.0         NaN            na   \n",
      "2                       none      1958.0        90.0            95   \n",
      "3                       none      1967.0         NaN           NaN   \n",
      "4                       none      1989.0        76.0            78   \n",
      "...                      ...         ...         ...           ...   \n",
      "2235                     NaN         NaN         NaN           NaN   \n",
      "2236                     NaN         NaN         NaN           NaN   \n",
      "2237                     NaN         NaN         NaN           NaN   \n",
      "2238                     NaN         NaN         NaN           NaN   \n",
      "2239                     NaN         NaN         NaN           NaN   \n",
      "\n",
      "     writing score Dt_Admission College_Fees  \n",
      "0               74      6/16/14  $84,835.00   \n",
      "1                A      6/15/14  $57,091.00   \n",
      "2               93      5/13/14  $67,267.00   \n",
      "3               44   05-11-2014  $32,474.00   \n",
      "4               75   04-08-2014  $21,474.00   \n",
      "...            ...          ...          ...  \n",
      "2235           NaN          NaN          NaN  \n",
      "2236           NaN          NaN          NaN  \n",
      "2237           NaN          NaN          NaN  \n",
      "2238           NaN          NaN          NaN  \n",
      "2239           NaN          NaN          NaN  \n",
      "\n",
      "[2240 rows x 11 columns]\n"
     ]
    }
   ],
   "source": [
    "print(df)"
   ]
  },
  {
   "cell_type": "code",
   "execution_count": 6,
   "id": "de006dc5-da90-402d-9ac5-8086c8d1529d",
   "metadata": {},
   "outputs": [
    {
     "name": "stdout",
     "output_type": "stream",
     "text": [
      "0       72.0\n",
      "1        NaN\n",
      "2       90.0\n",
      "3        NaN\n",
      "4       76.0\n",
      "        ... \n",
      "2235     NaN\n",
      "2236     NaN\n",
      "2237     NaN\n",
      "2238     NaN\n",
      "2239     NaN\n",
      "Name: math score, Length: 2240, dtype: float64\n"
     ]
    }
   ],
   "source": [
    "print(df['math score'])"
   ]
  },
  {
   "cell_type": "code",
   "execution_count": 7,
   "id": "db921163-e695-4073-9553-f1d1f0ea6443",
   "metadata": {},
   "outputs": [
    {
     "name": "stdout",
     "output_type": "stream",
     "text": [
      "0       False\n",
      "1        True\n",
      "2       False\n",
      "3        True\n",
      "4       False\n",
      "        ...  \n",
      "2235     True\n",
      "2236     True\n",
      "2237     True\n",
      "2238     True\n",
      "2239     True\n",
      "Name: math score, Length: 2240, dtype: bool\n"
     ]
    }
   ],
   "source": [
    "print(df['math score'].isnull())"
   ]
  },
  {
   "cell_type": "code",
   "execution_count": 8,
   "id": "81c844df-da25-4b5d-80fb-ff6891349fc3",
   "metadata": {},
   "outputs": [
    {
     "name": "stdout",
     "output_type": "stream",
     "text": [
      "0        72\n",
      "1        na\n",
      "2        95\n",
      "3       NaN\n",
      "4        78\n",
      "       ... \n",
      "2235    NaN\n",
      "2236    NaN\n",
      "2237    NaN\n",
      "2238    NaN\n",
      "2239    NaN\n",
      "Name: reading score, Length: 2240, dtype: object\n"
     ]
    }
   ],
   "source": [
    "print(df['reading score'])"
   ]
  },
  {
   "cell_type": "code",
   "execution_count": 9,
   "id": "d59ce82d-6c3f-4b86-abe9-382301a586dc",
   "metadata": {},
   "outputs": [
    {
     "name": "stdout",
     "output_type": "stream",
     "text": [
      "0       False\n",
      "1       False\n",
      "2       False\n",
      "3        True\n",
      "4       False\n",
      "        ...  \n",
      "2235     True\n",
      "2236     True\n",
      "2237     True\n",
      "2238     True\n",
      "2239     True\n",
      "Name: reading score, Length: 2240, dtype: bool\n"
     ]
    }
   ],
   "source": [
    "print(df['reading score'].isnull())"
   ]
  },
  {
   "cell_type": "code",
   "execution_count": 10,
   "id": "3008aca5-b143-4514-a03e-29670de695ef",
   "metadata": {},
   "outputs": [],
   "source": [
    "missing_values = [\"n/a\", \"na\", \"--\"]\n",
    "df = pd.read_csv(r\"C:\\Users\\dell\\Downloads\\AcademicPerformance.csv\", na_values=missing_values)"
   ]
  },
  {
   "cell_type": "code",
   "execution_count": 11,
   "id": "efa9816c-a92c-416c-9154-a8938fccc8fb",
   "metadata": {},
   "outputs": [
    {
     "name": "stdout",
     "output_type": "stream",
     "text": [
      "      gender race/ethnicity parental level of education         lunch  \\\n",
      "0     female        group B           bachelor's degree      standard   \n",
      "1     female        group C                some college      standard   \n",
      "2     female        group B             master's degree      standard   \n",
      "3       male        group A          associate's degree  free/reduced   \n",
      "4       male        group C                some college      standard   \n",
      "...      ...            ...                         ...           ...   \n",
      "2235     NaN            NaN                         NaN           NaN   \n",
      "2236     NaN            NaN                         NaN           NaN   \n",
      "2237     NaN            NaN                         NaN           NaN   \n",
      "2238     NaN            NaN                         NaN           NaN   \n",
      "2239     NaN            NaN                         NaN           NaN   \n",
      "\n",
      "     test preparation course  Year_Birth  math score  reading score  \\\n",
      "0                       none      1970.0        72.0           72.0   \n",
      "1                  completed      1961.0         NaN            NaN   \n",
      "2                       none      1958.0        90.0           95.0   \n",
      "3                       none      1967.0         NaN            NaN   \n",
      "4                       none      1989.0        76.0           78.0   \n",
      "...                      ...         ...         ...            ...   \n",
      "2235                     NaN         NaN         NaN            NaN   \n",
      "2236                     NaN         NaN         NaN            NaN   \n",
      "2237                     NaN         NaN         NaN            NaN   \n",
      "2238                     NaN         NaN         NaN            NaN   \n",
      "2239                     NaN         NaN         NaN            NaN   \n",
      "\n",
      "     writing score Dt_Admission College_Fees  \n",
      "0               74      6/16/14  $84,835.00   \n",
      "1                A      6/15/14  $57,091.00   \n",
      "2               93      5/13/14  $67,267.00   \n",
      "3               44   05-11-2014  $32,474.00   \n",
      "4               75   04-08-2014  $21,474.00   \n",
      "...            ...          ...          ...  \n",
      "2235           NaN          NaN          NaN  \n",
      "2236           NaN          NaN          NaN  \n",
      "2237           NaN          NaN          NaN  \n",
      "2238           NaN          NaN          NaN  \n",
      "2239           NaN          NaN          NaN  \n",
      "\n",
      "[2240 rows x 11 columns]\n"
     ]
    }
   ],
   "source": [
    "print(df)"
   ]
  },
  {
   "cell_type": "code",
   "execution_count": 12,
   "id": "7d1f342a-7e6e-49ad-8f74-da72697c1a8f",
   "metadata": {},
   "outputs": [
    {
     "name": "stdout",
     "output_type": "stream",
     "text": [
      "0       72.0\n",
      "1        NaN\n",
      "2       95.0\n",
      "3        NaN\n",
      "4       78.0\n",
      "        ... \n",
      "2235     NaN\n",
      "2236     NaN\n",
      "2237     NaN\n",
      "2238     NaN\n",
      "2239     NaN\n",
      "Name: reading score, Length: 2240, dtype: float64\n"
     ]
    }
   ],
   "source": [
    "print(df['reading score'])"
   ]
  },
  {
   "cell_type": "code",
   "execution_count": 13,
   "id": "cca64112-22bd-4d28-ba8a-947d20a61db7",
   "metadata": {},
   "outputs": [
    {
     "name": "stdout",
     "output_type": "stream",
     "text": [
      "0       False\n",
      "1        True\n",
      "2       False\n",
      "3        True\n",
      "4       False\n",
      "        ...  \n",
      "2235     True\n",
      "2236     True\n",
      "2237     True\n",
      "2238     True\n",
      "2239     True\n",
      "Name: reading score, Length: 2240, dtype: bool\n"
     ]
    }
   ],
   "source": [
    "print(df['reading score'].isnull())"
   ]
  },
  {
   "cell_type": "code",
   "execution_count": 14,
   "id": "519c4b4c-c41e-4aed-a79a-9d1214b16b11",
   "metadata": {},
   "outputs": [
    {
     "name": "stdout",
     "output_type": "stream",
     "text": [
      "0       72.0\n",
      "1        NaN\n",
      "2       90.0\n",
      "3        NaN\n",
      "4       76.0\n",
      "        ... \n",
      "2235     NaN\n",
      "2236     NaN\n",
      "2237     NaN\n",
      "2238     NaN\n",
      "2239     NaN\n",
      "Name: math score, Length: 2240, dtype: float64\n"
     ]
    }
   ],
   "source": [
    "print(df['math score'])"
   ]
  },
  {
   "cell_type": "code",
   "execution_count": 15,
   "id": "90777245-282c-4947-b97e-c7a2d6264a84",
   "metadata": {},
   "outputs": [
    {
     "name": "stdout",
     "output_type": "stream",
     "text": [
      "0       False\n",
      "1        True\n",
      "2       False\n",
      "3        True\n",
      "4       False\n",
      "        ...  \n",
      "2235     True\n",
      "2236     True\n",
      "2237     True\n",
      "2238     True\n",
      "2239     True\n",
      "Name: math score, Length: 2240, dtype: bool\n"
     ]
    }
   ],
   "source": [
    "print(df['math score'].isnull())"
   ]
  },
  {
   "cell_type": "code",
   "execution_count": 16,
   "id": "ad617df5-b12e-4a23-b6a6-3ff812d732ef",
   "metadata": {},
   "outputs": [
    {
     "name": "stdout",
     "output_type": "stream",
     "text": [
      "[3, 6, 11, 20, 41, 55, 68, 97, 99, 101]\n"
     ]
    }
   ],
   "source": [
    "dataset = [11,41,20,3,101,55,68,97,99,6]\n",
    "print(sorted(dataset))"
   ]
  },
  {
   "cell_type": "code",
   "execution_count": null,
   "id": "35ac21af-f037-46d8-9f9a-3df14e331f88",
   "metadata": {},
   "outputs": [
    {
     "name": "stdout",
     "output_type": "stream",
     "text": [
      "13.25 89.75\n"
     ]
    }
   ],
   "source": [
    "quantile1, quantile3 = np.percentile(dataset, [25,75])\n",
    "print(quantile1,quantile3)"
   ]
  },
  {
   "cell_type": "code",
   "execution_count": 18,
   "id": "c8ac2fb4-3392-4e57-b097-d96d60dab9b1",
   "metadata": {},
   "outputs": [
    {
     "name": "stdout",
     "output_type": "stream",
     "text": [
      "76.5\n"
     ]
    }
   ],
   "source": [
    "iqr_value = (quantile3 - quantile1)\n",
    "print(iqr_value)\n"
   ]
  },
  {
   "cell_type": "code",
   "execution_count": 19,
   "id": "36f59627-317a-47ca-86d9-99f278f4fbd7",
   "metadata": {},
   "outputs": [
    {
     "name": "stdout",
     "output_type": "stream",
     "text": [
      "-101.5 204.5\n"
     ]
    }
   ],
   "source": [
    "lower_bound = quantile1 - 1.5 * iqr_value\n",
    "upper_bound = quantile3 + 1.5 * iqr_value\n",
    "print(lower_bound, upper_bound)"
   ]
  },
  {
   "cell_type": "code",
   "execution_count": 20,
   "id": "9c72df5e-4768-4a61-8283-cf1331ec5c05",
   "metadata": {},
   "outputs": [],
   "source": [
    "df['age'] = date.today().year - df['Year_Birth']"
   ]
  },
  {
   "cell_type": "code",
   "execution_count": 21,
   "id": "0823f19d-4a4c-43e0-95cf-e496e49e3eb3",
   "metadata": {},
   "outputs": [],
   "source": [
    "df['Year'] = pd.DatetimeIndex(df['Dt_Admission']).year"
   ]
  },
  {
   "cell_type": "code",
   "execution_count": 22,
   "id": "8e360dce-a4a1-43bc-a9e7-b28aaeb1a81e",
   "metadata": {},
   "outputs": [],
   "source": [
    "df['E_L'] = date.today().year - df['Year']"
   ]
  },
  {
   "cell_type": "code",
   "execution_count": 23,
   "id": "df13bc85-b700-466b-a829-51619e89673b",
   "metadata": {},
   "outputs": [
    {
     "ename": "ValueError",
     "evalue": "cannot convert float NaN to integer",
     "output_type": "error",
     "traceback": [
      "\u001b[1;31m---------------------------------------------------------------------------\u001b[0m",
      "\u001b[1;31mValueError\u001b[0m                                Traceback (most recent call last)",
      "Cell \u001b[1;32mIn[23], line 4\u001b[0m\n\u001b[0;32m      1\u001b[0m df[\u001b[38;5;124m'\u001b[39m\u001b[38;5;124mFees$\u001b[39m\u001b[38;5;124m'\u001b[39m] \u001b[38;5;241m=\u001b[39m df[\u001b[38;5;124m'\u001b[39m\u001b[38;5;124mCollege_Fees\u001b[39m\u001b[38;5;124m'\u001b[39m]\u001b[38;5;241m.\u001b[39mstr\u001b[38;5;241m.\u001b[39mreplace(\u001b[38;5;124m'\u001b[39m\u001b[38;5;124m,\u001b[39m\u001b[38;5;124m'\u001b[39m, \u001b[38;5;124m'\u001b[39m\u001b[38;5;124m'\u001b[39m, regex\u001b[38;5;241m=\u001b[39m\u001b[38;5;28;01mFalse\u001b[39;00m)\\\n\u001b[0;32m      2\u001b[0m                                 \u001b[38;5;241m.\u001b[39mstr\u001b[38;5;241m.\u001b[39mreplace(\u001b[38;5;124m'\u001b[39m\u001b[38;5;124m$\u001b[39m\u001b[38;5;124m'\u001b[39m, \u001b[38;5;124m'\u001b[39m\u001b[38;5;124m'\u001b[39m, regex\u001b[38;5;241m=\u001b[39m\u001b[38;5;28;01mFalse\u001b[39;00m)\\\n\u001b[0;32m      3\u001b[0m                                 \u001b[38;5;241m.\u001b[39mastype(\u001b[38;5;28mfloat\u001b[39m)\n\u001b[1;32m----> 4\u001b[0m df[\u001b[38;5;124m'\u001b[39m\u001b[38;5;124mFees_M$\u001b[39m\u001b[38;5;124m'\u001b[39m] \u001b[38;5;241m=\u001b[39m df[\u001b[38;5;124m'\u001b[39m\u001b[38;5;124mFees$\u001b[39m\u001b[38;5;124m'\u001b[39m]\u001b[38;5;241m.\u001b[39mapply(\u001b[38;5;28;01mlambda\u001b[39;00m X: \u001b[38;5;28mround\u001b[39m(X \u001b[38;5;241m/\u001b[39m \u001b[38;5;241m1000000\u001b[39m))\n",
      "File \u001b[1;32m~\\anaconda3\\Lib\\site-packages\\pandas\\core\\series.py:4924\u001b[0m, in \u001b[0;36mSeries.apply\u001b[1;34m(self, func, convert_dtype, args, by_row, **kwargs)\u001b[0m\n\u001b[0;32m   4789\u001b[0m \u001b[38;5;28;01mdef\u001b[39;00m \u001b[38;5;21mapply\u001b[39m(\n\u001b[0;32m   4790\u001b[0m     \u001b[38;5;28mself\u001b[39m,\n\u001b[0;32m   4791\u001b[0m     func: AggFuncType,\n\u001b[1;32m   (...)\u001b[0m\n\u001b[0;32m   4796\u001b[0m     \u001b[38;5;241m*\u001b[39m\u001b[38;5;241m*\u001b[39mkwargs,\n\u001b[0;32m   4797\u001b[0m ) \u001b[38;5;241m-\u001b[39m\u001b[38;5;241m>\u001b[39m DataFrame \u001b[38;5;241m|\u001b[39m Series:\n\u001b[0;32m   4798\u001b[0m \u001b[38;5;250m    \u001b[39m\u001b[38;5;124;03m\"\"\"\u001b[39;00m\n\u001b[0;32m   4799\u001b[0m \u001b[38;5;124;03m    Invoke function on values of Series.\u001b[39;00m\n\u001b[0;32m   4800\u001b[0m \n\u001b[1;32m   (...)\u001b[0m\n\u001b[0;32m   4915\u001b[0m \u001b[38;5;124;03m    dtype: float64\u001b[39;00m\n\u001b[0;32m   4916\u001b[0m \u001b[38;5;124;03m    \"\"\"\u001b[39;00m\n\u001b[0;32m   4917\u001b[0m     \u001b[38;5;28;01mreturn\u001b[39;00m SeriesApply(\n\u001b[0;32m   4918\u001b[0m         \u001b[38;5;28mself\u001b[39m,\n\u001b[0;32m   4919\u001b[0m         func,\n\u001b[0;32m   4920\u001b[0m         convert_dtype\u001b[38;5;241m=\u001b[39mconvert_dtype,\n\u001b[0;32m   4921\u001b[0m         by_row\u001b[38;5;241m=\u001b[39mby_row,\n\u001b[0;32m   4922\u001b[0m         args\u001b[38;5;241m=\u001b[39margs,\n\u001b[0;32m   4923\u001b[0m         kwargs\u001b[38;5;241m=\u001b[39mkwargs,\n\u001b[1;32m-> 4924\u001b[0m     )\u001b[38;5;241m.\u001b[39mapply()\n",
      "File \u001b[1;32m~\\anaconda3\\Lib\\site-packages\\pandas\\core\\apply.py:1427\u001b[0m, in \u001b[0;36mSeriesApply.apply\u001b[1;34m(self)\u001b[0m\n\u001b[0;32m   1424\u001b[0m     \u001b[38;5;28;01mreturn\u001b[39;00m \u001b[38;5;28mself\u001b[39m\u001b[38;5;241m.\u001b[39mapply_compat()\n\u001b[0;32m   1426\u001b[0m \u001b[38;5;66;03m# self.func is Callable\u001b[39;00m\n\u001b[1;32m-> 1427\u001b[0m \u001b[38;5;28;01mreturn\u001b[39;00m \u001b[38;5;28mself\u001b[39m\u001b[38;5;241m.\u001b[39mapply_standard()\n",
      "File \u001b[1;32m~\\anaconda3\\Lib\\site-packages\\pandas\\core\\apply.py:1507\u001b[0m, in \u001b[0;36mSeriesApply.apply_standard\u001b[1;34m(self)\u001b[0m\n\u001b[0;32m   1501\u001b[0m \u001b[38;5;66;03m# row-wise access\u001b[39;00m\n\u001b[0;32m   1502\u001b[0m \u001b[38;5;66;03m# apply doesn't have a `na_action` keyword and for backward compat reasons\u001b[39;00m\n\u001b[0;32m   1503\u001b[0m \u001b[38;5;66;03m# we need to give `na_action=\"ignore\"` for categorical data.\u001b[39;00m\n\u001b[0;32m   1504\u001b[0m \u001b[38;5;66;03m# TODO: remove the `na_action=\"ignore\"` when that default has been changed in\u001b[39;00m\n\u001b[0;32m   1505\u001b[0m \u001b[38;5;66;03m#  Categorical (GH51645).\u001b[39;00m\n\u001b[0;32m   1506\u001b[0m action \u001b[38;5;241m=\u001b[39m \u001b[38;5;124m\"\u001b[39m\u001b[38;5;124mignore\u001b[39m\u001b[38;5;124m\"\u001b[39m \u001b[38;5;28;01mif\u001b[39;00m \u001b[38;5;28misinstance\u001b[39m(obj\u001b[38;5;241m.\u001b[39mdtype, CategoricalDtype) \u001b[38;5;28;01melse\u001b[39;00m \u001b[38;5;28;01mNone\u001b[39;00m\n\u001b[1;32m-> 1507\u001b[0m mapped \u001b[38;5;241m=\u001b[39m obj\u001b[38;5;241m.\u001b[39m_map_values(\n\u001b[0;32m   1508\u001b[0m     mapper\u001b[38;5;241m=\u001b[39mcurried, na_action\u001b[38;5;241m=\u001b[39maction, convert\u001b[38;5;241m=\u001b[39m\u001b[38;5;28mself\u001b[39m\u001b[38;5;241m.\u001b[39mconvert_dtype\n\u001b[0;32m   1509\u001b[0m )\n\u001b[0;32m   1511\u001b[0m \u001b[38;5;28;01mif\u001b[39;00m \u001b[38;5;28mlen\u001b[39m(mapped) \u001b[38;5;129;01mand\u001b[39;00m \u001b[38;5;28misinstance\u001b[39m(mapped[\u001b[38;5;241m0\u001b[39m], ABCSeries):\n\u001b[0;32m   1512\u001b[0m     \u001b[38;5;66;03m# GH#43986 Need to do list(mapped) in order to get treated as nested\u001b[39;00m\n\u001b[0;32m   1513\u001b[0m     \u001b[38;5;66;03m#  See also GH#25959 regarding EA support\u001b[39;00m\n\u001b[0;32m   1514\u001b[0m     \u001b[38;5;28;01mreturn\u001b[39;00m obj\u001b[38;5;241m.\u001b[39m_constructor_expanddim(\u001b[38;5;28mlist\u001b[39m(mapped), index\u001b[38;5;241m=\u001b[39mobj\u001b[38;5;241m.\u001b[39mindex)\n",
      "File \u001b[1;32m~\\anaconda3\\Lib\\site-packages\\pandas\\core\\base.py:921\u001b[0m, in \u001b[0;36mIndexOpsMixin._map_values\u001b[1;34m(self, mapper, na_action, convert)\u001b[0m\n\u001b[0;32m    918\u001b[0m \u001b[38;5;28;01mif\u001b[39;00m \u001b[38;5;28misinstance\u001b[39m(arr, ExtensionArray):\n\u001b[0;32m    919\u001b[0m     \u001b[38;5;28;01mreturn\u001b[39;00m arr\u001b[38;5;241m.\u001b[39mmap(mapper, na_action\u001b[38;5;241m=\u001b[39mna_action)\n\u001b[1;32m--> 921\u001b[0m \u001b[38;5;28;01mreturn\u001b[39;00m algorithms\u001b[38;5;241m.\u001b[39mmap_array(arr, mapper, na_action\u001b[38;5;241m=\u001b[39mna_action, convert\u001b[38;5;241m=\u001b[39mconvert)\n",
      "File \u001b[1;32m~\\anaconda3\\Lib\\site-packages\\pandas\\core\\algorithms.py:1743\u001b[0m, in \u001b[0;36mmap_array\u001b[1;34m(arr, mapper, na_action, convert)\u001b[0m\n\u001b[0;32m   1741\u001b[0m values \u001b[38;5;241m=\u001b[39m arr\u001b[38;5;241m.\u001b[39mastype(\u001b[38;5;28mobject\u001b[39m, copy\u001b[38;5;241m=\u001b[39m\u001b[38;5;28;01mFalse\u001b[39;00m)\n\u001b[0;32m   1742\u001b[0m \u001b[38;5;28;01mif\u001b[39;00m na_action \u001b[38;5;129;01mis\u001b[39;00m \u001b[38;5;28;01mNone\u001b[39;00m:\n\u001b[1;32m-> 1743\u001b[0m     \u001b[38;5;28;01mreturn\u001b[39;00m lib\u001b[38;5;241m.\u001b[39mmap_infer(values, mapper, convert\u001b[38;5;241m=\u001b[39mconvert)\n\u001b[0;32m   1744\u001b[0m \u001b[38;5;28;01melse\u001b[39;00m:\n\u001b[0;32m   1745\u001b[0m     \u001b[38;5;28;01mreturn\u001b[39;00m lib\u001b[38;5;241m.\u001b[39mmap_infer_mask(\n\u001b[0;32m   1746\u001b[0m         values, mapper, mask\u001b[38;5;241m=\u001b[39misna(values)\u001b[38;5;241m.\u001b[39mview(np\u001b[38;5;241m.\u001b[39muint8), convert\u001b[38;5;241m=\u001b[39mconvert\n\u001b[0;32m   1747\u001b[0m     )\n",
      "File \u001b[1;32mlib.pyx:2972\u001b[0m, in \u001b[0;36mpandas._libs.lib.map_infer\u001b[1;34m()\u001b[0m\n",
      "Cell \u001b[1;32mIn[23], line 4\u001b[0m, in \u001b[0;36m<lambda>\u001b[1;34m(X)\u001b[0m\n\u001b[0;32m      1\u001b[0m df[\u001b[38;5;124m'\u001b[39m\u001b[38;5;124mFees$\u001b[39m\u001b[38;5;124m'\u001b[39m] \u001b[38;5;241m=\u001b[39m df[\u001b[38;5;124m'\u001b[39m\u001b[38;5;124mCollege_Fees\u001b[39m\u001b[38;5;124m'\u001b[39m]\u001b[38;5;241m.\u001b[39mstr\u001b[38;5;241m.\u001b[39mreplace(\u001b[38;5;124m'\u001b[39m\u001b[38;5;124m,\u001b[39m\u001b[38;5;124m'\u001b[39m, \u001b[38;5;124m'\u001b[39m\u001b[38;5;124m'\u001b[39m, regex\u001b[38;5;241m=\u001b[39m\u001b[38;5;28;01mFalse\u001b[39;00m)\\\n\u001b[0;32m      2\u001b[0m                                 \u001b[38;5;241m.\u001b[39mstr\u001b[38;5;241m.\u001b[39mreplace(\u001b[38;5;124m'\u001b[39m\u001b[38;5;124m$\u001b[39m\u001b[38;5;124m'\u001b[39m, \u001b[38;5;124m'\u001b[39m\u001b[38;5;124m'\u001b[39m, regex\u001b[38;5;241m=\u001b[39m\u001b[38;5;28;01mFalse\u001b[39;00m)\\\n\u001b[0;32m      3\u001b[0m                                 \u001b[38;5;241m.\u001b[39mastype(\u001b[38;5;28mfloat\u001b[39m)\n\u001b[1;32m----> 4\u001b[0m df[\u001b[38;5;124m'\u001b[39m\u001b[38;5;124mFees_M$\u001b[39m\u001b[38;5;124m'\u001b[39m] \u001b[38;5;241m=\u001b[39m df[\u001b[38;5;124m'\u001b[39m\u001b[38;5;124mFees$\u001b[39m\u001b[38;5;124m'\u001b[39m]\u001b[38;5;241m.\u001b[39mapply(\u001b[38;5;28;01mlambda\u001b[39;00m X: \u001b[38;5;28mround\u001b[39m(X \u001b[38;5;241m/\u001b[39m \u001b[38;5;241m1000000\u001b[39m))\n",
      "\u001b[1;31mValueError\u001b[0m: cannot convert float NaN to integer"
     ]
    }
   ],
   "source": [
    "df['Fees$'] = df['College_Fees'].str.replace(',', '', regex=False)\\\n",
    "                                .str.replace('$', '', regex=False)\\\n",
    "                                .astype(float)\n",
    "df['Fees_M$'] = df['Fees$'].apply(lambda X: round(X / 1000000))"
   ]
  },
  {
   "cell_type": "code",
   "execution_count": 24,
   "id": "2e29d5fe-2f68-40a9-92ae-277735690391",
   "metadata": {},
   "outputs": [
    {
     "name": "stdout",
     "output_type": "stream",
     "text": [
      "0    $84,835.00 \n",
      "1    $57,091.00 \n",
      "2    $67,267.00 \n",
      "3    $32,474.00 \n",
      "4    $21,474.00 \n",
      "5    $71,691.00 \n",
      "6    $63,564.00 \n",
      "7    $44,931.00 \n",
      "8    $65,324.00 \n",
      "9    $65,324.00 \n",
      "Name: College_Fees, dtype: object\n"
     ]
    }
   ],
   "source": [
    "print(df['College_Fees'].head(10))\n"
   ]
  },
  {
   "cell_type": "code",
   "execution_count": null,
   "id": "25f1a897-bfe3-4b62-ac85-5590f8564504",
   "metadata": {},
   "outputs": [],
   "source": [
    "\n",
    "df['Fees$'] = df['College_Fees'].astype(str) \\\n",
    "                                .str.replace(',', '', regex=False) \\\n",
    "                                .str.replace('$', '', regex=False) \\\n",
    "                                .str.strip() \\\n",
    "                                .astype(float)\n"
   ]
  },
  {
   "cell_type": "code",
   "execution_count": 29,
   "id": "1b47ba61-fba3-4073-933c-bd456e2da0ac",
   "metadata": {},
   "outputs": [],
   "source": [
    "df['Fees_M$'] = df['Fees$'].apply(lambda x: round(x / 1_000_000, 2))\n"
   ]
  },
  {
   "cell_type": "code",
   "execution_count": 30,
   "id": "4330d529-5e42-485d-a6e6-987dfdf6cbf1",
   "metadata": {},
   "outputs": [
    {
     "name": "stdout",
     "output_type": "stream",
     "text": [
      "   gender race/ethnicity parental level of education         lunch  \\\n",
      "0  female        group B           bachelor's degree      standard   \n",
      "1  female        group C                some college      standard   \n",
      "2  female        group B             master's degree      standard   \n",
      "3    male        group A          associate's degree  free/reduced   \n",
      "4    male        group C                some college      standard   \n",
      "\n",
      "  test preparation course  Year_Birth  math score  reading score  \\\n",
      "0                    none      1970.0        72.0           72.0   \n",
      "1               completed      1961.0         NaN            NaN   \n",
      "2                    none      1958.0        90.0           95.0   \n",
      "3                    none      1967.0         NaN            NaN   \n",
      "4                    none      1989.0        76.0           78.0   \n",
      "\n",
      "  writing score Dt_Admission College_Fees   age    Year   E_L    Fees$  \\\n",
      "0            74      6/16/14  $84,835.00   55.0  2014.0  11.0  84835.0   \n",
      "1             A      6/15/14  $57,091.00   64.0  2014.0  11.0  57091.0   \n",
      "2            93      5/13/14  $67,267.00   67.0  2014.0  11.0  67267.0   \n",
      "3            44   05-11-2014  $32,474.00   58.0  2014.0  11.0  32474.0   \n",
      "4            75   04-08-2014  $21,474.00   36.0  2014.0  11.0  21474.0   \n",
      "\n",
      "   Fees_M$  \n",
      "0     0.08  \n",
      "1     0.06  \n",
      "2     0.07  \n",
      "3     0.03  \n",
      "4     0.02  \n"
     ]
    }
   ],
   "source": [
    "print(df.head(5))"
   ]
  },
  {
   "cell_type": "code",
   "execution_count": null,
   "id": "8831cbd4-4dac-4400-bfce-8ddd62286908",
   "metadata": {},
   "outputs": [],
   "source": []
  }
 ],
 "metadata": {
  "kernelspec": {
   "display_name": "Python 3 (ipykernel)",
   "language": "python",
   "name": "python3"
  },
  "language_info": {
   "codemirror_mode": {
    "name": "ipython",
    "version": 3
   },
   "file_extension": ".py",
   "mimetype": "text/x-python",
   "name": "python",
   "nbconvert_exporter": "python",
   "pygments_lexer": "ipython3",
   "version": "3.12.7"
  }
 },
 "nbformat": 4,
 "nbformat_minor": 5
}
